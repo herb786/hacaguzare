{
 "cells": [
  {
   "cell_type": "code",
   "execution_count": 3,
   "metadata": {},
   "outputs": [
    {
     "name": "stdout",
     "output_type": "stream",
     "text": [
      "C:\\Users\\Herbert\\ScriptingProjects\\hacagusae\n",
      "['post0001.html', 'post0002.html', 'post0003.html', 'post0004.html', 'post0005.html', 'post0006.html', 'post0007.html', 'post0008.html', 'post0009.html', 'post0010.html', 'post0011.html', 'post0012.html', 'post0013.html', 'post0014.html', 'post0015.html', 'post0016.html', 'post0017.html', 'post0018.html']\n",
      "0018\n"
     ]
    }
   ],
   "source": [
    "import os\n",
    "#os.chdir(\"..\")\n",
    "root = os.getcwd()\n",
    "print(root)\n",
    "fileIn = open(\"index-template.html\",'r',encoding='utf-8')\n",
    "bigPost = \"\"\n",
    "os.chdir(\"posts\")\n",
    "myPosts = os.listdir()\n",
    "print(myPosts)\n",
    "for post in myPosts:\n",
    "    fileFeeder  = open(post,'r',encoding='utf-8')\n",
    "    fileContent = fileFeeder.read()\n",
    "    bigPost = fileContent + bigPost\n",
    "blogFile = fileIn.read()\n",
    "blogFile = blogFile.replace(\"INSERT-BLOGS\", bigPost)\n",
    "lastFile = myPosts[-1].replace(\".html\",\"\").replace(\"post\",\"\")\n",
    "print(lastFile)\n",
    "blogFile = blogFile.replace(\"BLOGNUMBER\", lastFile)\n",
    "os.chdir(root)\n",
    "file = open(\"index.html\",\"w\",encoding='utf-8')\n",
    "file.write(blogFile)\n",
    "file.close()"
   ]
  },
  {
   "cell_type": "code",
   "execution_count": 4,
   "metadata": {},
   "outputs": [
    {
     "name": "stdout",
     "output_type": "stream",
     "text": [
      "C:\\Users\\Herbert\\ScriptingProjects\\hacagusae\n",
      "['post0001.html', 'post0002.html', 'post0003.html', 'post0004.html', 'post0005.html', 'post0006.html', 'post0007.html', 'post0008.html', 'post0009.html', 'post0010.html', 'post0011.html', 'post0012.html', 'post0013.html', 'post0014.html', 'post0015.html', 'post0016.html', 'post0017.html', 'post0018.html', 'post0019.html', 'post0020.html', 'post0021.html', 'post0022.html']\n",
      "0022\n"
     ]
    }
   ],
   "source": [
    "import os\n",
    "#os.chdir(\"..\")\n",
    "root = os.getcwd()\n",
    "print(root)\n",
    "fileIn = open(\"inicio-template.html\",'r',encoding='utf-8')\n",
    "bigPost = \"\"\n",
    "os.chdir(\"publicaciones\")\n",
    "myPosts = os.listdir()\n",
    "print(myPosts)\n",
    "for post in myPosts:\n",
    "    fileFeeder  = open(post,'r',encoding='utf-8')\n",
    "    fileContent = fileFeeder.read()\n",
    "    bigPost = fileContent + bigPost\n",
    "blogFile = fileIn.read()\n",
    "blogFile = blogFile.replace(\"INSERT-BLOGS\", bigPost)\n",
    "lastFile = myPosts[-1].replace(\".html\",\"\").replace(\"post\",\"\")\n",
    "print(lastFile)\n",
    "blogFile = blogFile.replace(\"BLOGNUMBER\", lastFile)\n",
    "os.chdir(root)\n",
    "file = open(\"inicio.html\",\"w\",encoding='utf-8')\n",
    "file.write(blogFile)\n",
    "file.close()"
   ]
  },
  {
   "cell_type": "code",
   "execution_count": 5,
   "metadata": {},
   "outputs": [
    {
     "name": "stdout",
     "output_type": "stream",
     "text": [
      "C:\\Users\\Herbert\\ScriptingProjects\\hacagusae\n",
      "['app001.html', 'app002.html', 'app003.html', 'app004.html', 'app005.html', 'app006.html', 'app007.html', 'app008.html', 'app009.html', 'app010.html']\n"
     ]
    }
   ],
   "source": [
    "import os\n",
    "#os.chdir(\"..\")\n",
    "root = os.getcwd()\n",
    "print(root)\n",
    "fileIn = open(\"apps-template.html\",'r',encoding='utf-8')\n",
    "bigPost = \"\"\n",
    "os.chdir(\"apps\")\n",
    "myPosts = os.listdir()\n",
    "print(myPosts)\n",
    "for post in myPosts:\n",
    "    fileFeeder  = open(post,'r',encoding='utf-8')\n",
    "    fileContent = fileFeeder.read()\n",
    "    bigPost = fileContent + bigPost\n",
    "blogFile = fileIn.read()\n",
    "blogFile = blogFile.replace(\"INSERT-APPS\", bigPost)\n",
    "os.chdir(root)\n",
    "file = open(\"apps.html\",\"w\",encoding='utf-8')\n",
    "file.write(blogFile)\n",
    "file.close()"
   ]
  },
  {
   "cell_type": "code",
   "execution_count": null,
   "metadata": {},
   "outputs": [],
   "source": []
  }
 ],
 "metadata": {
  "kernelspec": {
   "display_name": "Python 3 (ipykernel)",
   "language": "python",
   "name": "python3"
  },
  "language_info": {
   "codemirror_mode": {
    "name": "ipython",
    "version": 3
   },
   "file_extension": ".py",
   "mimetype": "text/x-python",
   "name": "python",
   "nbconvert_exporter": "python",
   "pygments_lexer": "ipython3",
   "version": "3.10.1"
  }
 },
 "nbformat": 4,
 "nbformat_minor": 4
}
